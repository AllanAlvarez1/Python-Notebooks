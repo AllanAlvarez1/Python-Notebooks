{
  "nbformat": 4,
  "nbformat_minor": 0,
  "metadata": {
    "colab": {
      "provenance": [],
      "authorship_tag": "ABX9TyO3otP65yzPe8rb1Vug2XzD",
      "include_colab_link": true
    },
    "kernelspec": {
      "name": "python3",
      "display_name": "Python 3"
    },
    "language_info": {
      "name": "python"
    }
  },
  "cells": [
    {
      "cell_type": "markdown",
      "metadata": {
        "id": "view-in-github",
        "colab_type": "text"
      },
      "source": [
        "<a href=\"https://colab.research.google.com/github/AllanAlvarez1/Python-Notebooks/blob/Findind_Max_Value/FindingMaxValue.ipynb\" target=\"_parent\"><img src=\"https://colab.research.google.com/assets/colab-badge.svg\" alt=\"Open In Colab\"/></a>"
      ]
    },
    {
      "cell_type": "code",
      "source": [
        "import random"
      ],
      "metadata": {
        "id": "iiOoAY_rpO5q"
      },
      "execution_count": null,
      "outputs": []
    },
    {
      "cell_type": "code",
      "source": [
        "#A simple algorithm for finding the maximum value in a list\n",
        "#first, create a function that will take in a list and look for the largest number given\n",
        "def find_max(list):\n",
        " #initialize the first number as the largest\n",
        " max_value = list[0]\n",
        "#Loop through the array to find a bigger number until the biggest is found\n",
        " for number in list:\n",
        "  if number > max_value:\n",
        "    max_value = number\n",
        "\n",
        "    #find the index of the largest number value\n",
        "    index = list.index(max_value)\n",
        "\n",
        "\n",
        "  #return the largest number\n",
        " return max_value, index\n",
        "\n"
      ],
      "metadata": {
        "id": "K0qQdqbXlbcI"
      },
      "execution_count": null,
      "outputs": []
    },
    {
      "cell_type": "code",
      "source": [
        "#Call the function after making a list of numbers\n",
        "numbers =[1, 3, 5, 6, 10, 12, 7, 4]\n",
        "print(\"The largest number is: \", find_max(numbers))"
      ],
      "metadata": {
        "colab": {
          "base_uri": "https://localhost:8080/"
        },
        "id": "1DpcIhkonwo_",
        "outputId": "e4b6d944-753e-48e3-a566-a8410e2b73af"
      },
      "execution_count": null,
      "outputs": [
        {
          "output_type": "stream",
          "name": "stdout",
          "text": [
            "The largest number is:  12\n"
          ]
        }
      ]
    },
    {
      "cell_type": "code",
      "source": [
        "#Now we are going to have a list be randomly populated and\n",
        "# have it find the max in there\n",
        "random_list = []\n",
        "for i in range(10):\n",
        "  random_list.append(random.randint(1, 100))\n",
        "print(random_list)\n",
        "print(\"The largest number is: \", find_max(random_list))\n"
      ],
      "metadata": {
        "colab": {
          "base_uri": "https://localhost:8080/"
        },
        "id": "2arSE7dopC41",
        "outputId": "ceafafce-0870-4fa3-8ac3-5a0399273d8e"
      },
      "execution_count": null,
      "outputs": [
        {
          "output_type": "stream",
          "name": "stdout",
          "text": [
            "[84, 74, 71, 71, 4, 88, 24, 18, 59, 5]\n",
            "The largest number is:  88\n"
          ]
        }
      ]
    },
    {
      "cell_type": "code",
      "source": [
        "#We are going to do the same thing except we are now adding\n",
        "#that the index be found as well and printed.\n",
        "random_list = []\n",
        "#add 10 random values\n",
        "for i in range(10):\n",
        "  random_list.append(random.randint(1, 100))\n",
        "print(random_list)\n",
        "print(\"The largest number is: \", find_max(random_list)[0])\n",
        "print(\"The index of the largest number is \", find_max(random_list)[1])\n",
        "\n"
      ],
      "metadata": {
        "colab": {
          "base_uri": "https://localhost:8080/"
        },
        "id": "tfABGEM9qEUM",
        "outputId": "4d0e2b03-fb44-4cb1-9d5e-98ba856025cd"
      },
      "execution_count": null,
      "outputs": [
        {
          "output_type": "stream",
          "name": "stdout",
          "text": [
            "[65, 22, 26, 30, 68, 47, 34, 85, 39, 51]\n",
            "The largest number is:  85\n",
            "The index of the largest number is  7\n"
          ]
        }
      ]
    },
    {
      "cell_type": "markdown",
      "source": [],
      "metadata": {
        "id": "fyPhD4HAla-R"
      }
    },
    {
      "cell_type": "markdown",
      "source": [
        "The .index call allows us to point out what index a value is at in a list. The .append call allows us to add values into a list which is how we add 10 random values into the list. Finding the max value can be used to sort through important information such as the most recent addition to the list or finding an important element with the highest value.\n"
      ],
      "metadata": {
        "id": "PzFL80nhq61U"
      }
    }
  ]
}