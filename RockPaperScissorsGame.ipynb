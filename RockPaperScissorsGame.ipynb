{
  "nbformat": 4,
  "nbformat_minor": 0,
  "metadata": {
    "colab": {
      "provenance": [],
      "authorship_tag": "ABX9TyObiQQ9A5/WlJp7+2Ppyr5+",
      "include_colab_link": true
    },
    "kernelspec": {
      "name": "python3",
      "display_name": "Python 3"
    },
    "language_info": {
      "name": "python"
    }
  },
  "cells": [
    {
      "cell_type": "markdown",
      "metadata": {
        "id": "view-in-github",
        "colab_type": "text"
      },
      "source": [
        "<a href=\"https://colab.research.google.com/github/AllanAlvarez1/Python-Notebooks/blob/RockPaperScissors/RockPaperScissorsGame.ipynb\" target=\"_parent\"><img src=\"https://colab.research.google.com/assets/colab-badge.svg\" alt=\"Open In Colab\"/></a>"
      ]
    },
    {
      "cell_type": "code",
      "execution_count": 5,
      "metadata": {
        "colab": {
          "base_uri": "https://localhost:8080/"
        },
        "id": "Ng3z0n8_G_cF",
        "outputId": "28ec02b6-663f-4700-999a-990e93121004"
      },
      "outputs": [
        {
          "output_type": "stream",
          "name": "stdout",
          "text": [
            "['rock', 'paper', 'scissors']\n"
          ]
        }
      ],
      "source": [
        "#Create a list with the values being rock paper and scissors\n",
        "\n",
        "choices = [\"rock\", \"paper\", \"scissors\"]\n",
        "print(choices)"
      ]
    },
    {
      "cell_type": "code",
      "source": [
        "#Have the player choose from one of these options\n",
        "player_choice = input(\"Choose your weapon: rock, paper, or scissors: \")\n",
        "print(player_choice)"
      ],
      "metadata": {
        "colab": {
          "base_uri": "https://localhost:8080/"
        },
        "id": "bOjMz7_0H4NG",
        "outputId": "0235eaf8-4b04-430c-e82a-43bcafc1d1ca"
      },
      "execution_count": 25,
      "outputs": [
        {
          "output_type": "stream",
          "name": "stdout",
          "text": [
            "Choose your weapon: rock, paper, or scissors: scissors\n",
            "scissors\n"
          ]
        }
      ]
    },
    {
      "cell_type": "code",
      "source": [
        "#Have the enemy CPU randomly choose from one of these options\n",
        "import random\n",
        "\n",
        "computer_choice = random.choice(choices)\n",
        "print(computer_choice)"
      ],
      "metadata": {
        "colab": {
          "base_uri": "https://localhost:8080/"
        },
        "id": "LAkoKjSDHhtu",
        "outputId": "0347d131-5dc1-4fa5-b9de-8ac995e8425a"
      },
      "execution_count": 41,
      "outputs": [
        {
          "output_type": "stream",
          "name": "stdout",
          "text": [
            "rock\n"
          ]
        }
      ]
    },
    {
      "cell_type": "code",
      "source": [
        "#Print both the player and enemy choice\n",
        "print(f\"Player: {player_choice}\")\n",
        "print(f\"Computer: {computer_choice}\")"
      ],
      "metadata": {
        "colab": {
          "base_uri": "https://localhost:8080/"
        },
        "id": "uqfzgqPSIkrJ",
        "outputId": "a5310e8d-14ba-4025-d7f7-d16a50411427"
      },
      "execution_count": 42,
      "outputs": [
        {
          "output_type": "stream",
          "name": "stdout",
          "text": [
            "Player: scissors\n",
            "Computer: rock\n"
          ]
        }
      ]
    },
    {
      "cell_type": "code",
      "source": [
        "#Compare the two choices and decide on the victor\n",
        "if player_choice == computer_choice:\n",
        "    print(\"It's a tie!\")\n",
        "elif player_choice == \"rock\":\n",
        "    if computer_choice == \"scissors\":\n",
        "        print(\"Player wins!\")\n",
        "    else:\n",
        "        print(\"Computer wins!\")\n",
        "elif player_choice == \"paper\":\n",
        "    if computer_choice == \"rock\":\n",
        "        print(\"Player wins!\")\n",
        "    else:\n",
        "        print(\"Computer wins!\")\n",
        "elif player_choice == \"scissors\":\n",
        "    if computer_choice == \"paper\":\n",
        "        print(\"Player wins!\")\n",
        "    else:\n",
        "        print(\"Computer wins!\")"
      ],
      "metadata": {
        "colab": {
          "base_uri": "https://localhost:8080/"
        },
        "id": "zVYr86xfIuBu",
        "outputId": "23e75550-67c6-42b2-8085-e0b29e68af1b"
      },
      "execution_count": 43,
      "outputs": [
        {
          "output_type": "stream",
          "name": "stdout",
          "text": [
            "Computer wins!\n"
          ]
        }
      ]
    },
    {
      "cell_type": "code",
      "source": [
        "#Keep the score between the Player and the Computer\n",
        "player_score = 0\n",
        "computer_score = 0\n",
        "if player_choice == computer_choice:\n",
        "    player_score +=0\n",
        "    computer_score +=0\n",
        "elif player_choice == \"rock\":\n",
        "    if computer_choice == \"scissors\":\n",
        "        player_score +=1\n",
        "    else:\n",
        "        computer_score +=1\n",
        "elif player_choice == \"paper\":\n",
        "    if computer_choice == \"rock\":\n",
        "        player_score +=1\n",
        "    else:\n",
        "        computer_score +=1\n",
        "elif player_choice == \"scissors\":\n",
        "    if computer_choice == \"paper\":\n",
        "        player_score +=1\n",
        "    else:\n",
        "        computer_score +=1\n",
        "\n",
        "print(f\"Player: {player_score}\")\n",
        "print(f\"Computer: {computer_score}\")\n",
        "\n",
        "\n"
      ],
      "metadata": {
        "colab": {
          "base_uri": "https://localhost:8080/"
        },
        "id": "GgnamlOFJS_R",
        "outputId": "73aabb0d-8af0-4cd8-8170-6eac71268dd0"
      },
      "execution_count": 47,
      "outputs": [
        {
          "output_type": "stream",
          "name": "stdout",
          "text": [
            "Player: 0\n",
            "Computer: 1\n"
          ]
        }
      ]
    }
  ]
}