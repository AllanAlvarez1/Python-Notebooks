{
  "nbformat": 4,
  "nbformat_minor": 0,
  "metadata": {
    "colab": {
      "provenance": [],
      "authorship_tag": "ABX9TyP6A44RnsT8dffjwpnfGzBA",
      "include_colab_link": true
    },
    "kernelspec": {
      "name": "python3",
      "display_name": "Python 3"
    },
    "language_info": {
      "name": "python"
    }
  },
  "cells": [
    {
      "cell_type": "markdown",
      "metadata": {
        "id": "view-in-github",
        "colab_type": "text"
      },
      "source": [
        "<a href=\"https://colab.research.google.com/github/AllanAlvarez1/Python-Notebooks/blob/Sum_of_Digits/Sum_of_Digits.ipynb\" target=\"_parent\"><img src=\"https://colab.research.google.com/assets/colab-badge.svg\" alt=\"Open In Colab\"/></a>"
      ]
    },
    {
      "cell_type": "code",
      "source": [
        "#Sum of Digits Problem\n",
        "#Write a function that calculates the sum of its digits\n",
        "def sum_of_digits(number):\n",
        "    sum = 0\n",
        "    for digit in number:\n",
        "        sum += int(digit)\n",
        "    return sum"
      ],
      "metadata": {
        "id": "kCFKhQqu0LUK"
      },
      "execution_count": null,
      "outputs": []
    },
    {
      "cell_type": "code",
      "execution_count": null,
      "metadata": {
        "colab": {
          "base_uri": "https://localhost:8080/"
        },
        "id": "Iwaxj_EpxwLr",
        "outputId": "131a41e8-5fe3-4da6-aa41-650df03e5231"
      },
      "outputs": [
        {
          "output_type": "stream",
          "name": "stdout",
          "text": [
            "Please input any number: 34567890\n",
            "34567890\n"
          ]
        }
      ],
      "source": [
        "#Ask the player to input a number\n",
        "number = input(\"Please input any number: \")\n",
        "print(number)"
      ]
    },
    {
      "cell_type": "code",
      "source": [
        "#Print the sum\n",
        "print(\"The sum of the digits in\", number, \"is:\",sum_of_digits(number))"
      ],
      "metadata": {
        "colab": {
          "base_uri": "https://localhost:8080/"
        },
        "id": "8AokSH5a0bbb",
        "outputId": "27bd5646-263e-466d-c4be-e82d1952c8c9"
      },
      "execution_count": null,
      "outputs": [
        {
          "output_type": "stream",
          "name": "stdout",
          "text": [
            "The sum of the digits in 34567890 is: 42\n"
          ]
        }
      ]
    }
  ]
}